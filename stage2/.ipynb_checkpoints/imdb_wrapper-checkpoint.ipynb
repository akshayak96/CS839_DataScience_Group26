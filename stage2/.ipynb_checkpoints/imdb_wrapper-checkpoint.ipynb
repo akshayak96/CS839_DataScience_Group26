{
 "cells": [
  {
   "cell_type": "code",
   "execution_count": 5,
   "metadata": {},
   "outputs": [
    {
     "name": "stdout",
     "output_type": "stream",
     "text": [
      "\n",
      "\n",
      "\n",
      "\n",
      "\n",
      "\n",
      "<!DOCTYPE html>\n",
      "<html\n",
      "    xmlns:og=\"http://ogp.me/ns#\"\n",
      "    xmlns:fb=\"http://www.facebook.com/2008/fbml\">\n",
      "    <head>\n",
      "         \n",
      "        <meta charset=\"utf-8\">\n",
      "        <meta http-equiv=\"X-UA-Compatible\" content=\"IE=edge\">\n",
      "\n",
      "    <meta name=\"apple-itunes-app\" content=\"app-id=342792525, app-argument=imdb:///list/ls062851360?src=mdot\">\n",
      "\n",
      "\n",
      "\n",
      "        <script type=\"text/javascript\">var IMDbTimer={starttime: new Date().getTime(),pt:'java'};</script>\n",
      "\n",
      "<script>\n",
      "    if (typeof uet == 'function') {\n",
      "      ue\n"
     ]
    }
   ],
   "source": [
    "from requests import get\n",
    "url = 'https://www.imdb.com/list/ls062851360/'\n",
    "response = get(url)\n",
    "print(response.text[:500])\n",
    "\n"
   ]
  },
  {
   "cell_type": "code",
   "execution_count": 7,
   "metadata": {},
   "outputs": [
    {
     "data": {
      "text/plain": [
       "bs4.BeautifulSoup"
      ]
     },
     "execution_count": 7,
     "metadata": {},
     "output_type": "execute_result"
    }
   ],
   "source": [
    "from bs4 import BeautifulSoup\n",
    "html_soup = BeautifulSoup(response.text, 'html.parser')\n",
    "type(html_soup)"
   ]
  },
  {
   "cell_type": "code",
   "execution_count": 8,
   "metadata": {},
   "outputs": [
    {
     "name": "stdout",
     "output_type": "stream",
     "text": [
      "<class 'bs4.element.ResultSet'>\n",
      "100\n"
     ]
    }
   ],
   "source": [
    "movie_containers = html_soup.find_all('div', class_ = 'lister-item mode-detail')  \n",
    "print(type(movie_containers))\n",
    "print(len(movie_containers))\n",
    "first_movie = movie_containers[0]"
   ]
  },
  {
   "cell_type": "code",
   "execution_count": 4,
   "metadata": {},
   "outputs": [
    {
     "name": "stdout",
     "output_type": "stream",
     "text": [
      "<div class=\"sg-col-20-of-24 s-result-item sg-col-0-of-12 sg-col-28-of-32 sg-col-16-of-20 sg-col sg-col-32-of-36 sg-col-12-of-16 sg-col-24-of-28\" data-asin=\"B07B3JFQH4\" data-index=\"0\"><div class=\"sg-col-inner\">\n",
      "<div class=\"s-include-content-margin s-border-bottom\">\n",
      "<div class=\"a-section a-spacing-medium\">\n",
      "<div class=\"sg-row\">\n",
      "<div class=\"a-section a-spacing-micro s-min-height-small\">\n",
      "</div>\n",
      "</div>\n",
      "<div class=\"sg-row\">\n",
      "<div class=\"sg-col-4-of-24 sg-col-4-of-12 sg-col-4-of-36 sg-col-4-of-28 sg-col-4-of-16 sg-col sg-col-4-of-20 sg-col-4-of-32\"><div class=\"sg-col-inner\">\n",
      "<div class=\"a-section a-spacing-none\">\n",
      "<span class=\"rush-component\" data-component-type=\"s-product-image\">\n",
      "<a class=\"a-link-normal\" href=\"/Death-Wish-Bruce-Willis/dp/B07B3JFQH4\">\n",
      "<div class=\"a-section aok-relative s-image-fixed-height\">\n",
      "<img alt=\"Death Wish\" class=\"s-image\" data-image-index=\"0\" data-image-latency=\"s-product-image\" data-image-load=\"\" data-image-source-density=\"1\" onload=\"window.uet &amp;&amp; uet('cf')\" src=\"https://m.media-amazon.com/images/I/A1mugtho-PL._AC_UL436_.jpg\" srcset=\"https://m.media-amazon.com/images/I/A1mugtho-PL._AC_UL436_.jpg 1x, https://m.media-amazon.com/images/I/A1mugtho-PL._AC_UL654_QL65_.jpg 1.5x, https://m.media-amazon.com/images/I/A1mugtho-PL._AC_UL872_QL65_.jpg 2x, https://m.media-amazon.com/images/I/A1mugtho-PL._AC_UL1090_QL65_.jpg 2.5x, https://m.media-amazon.com/images/I/A1mugtho-PL._AC_UL1308_QL65_.jpg 3x\"/>\n",
      "</div>\n",
      "</a>\n",
      "</span>\n",
      "</div>\n",
      "</div></div>\n",
      "<div class=\"sg-col-4-of-12 sg-col-8-of-16 sg-col-16-of-24 sg-col-12-of-20 sg-col-24-of-32 sg-col sg-col-28-of-36 sg-col-20-of-28\"><div class=\"sg-col-inner\">\n",
      "<div class=\"sg-row\">\n",
      "<div class=\"sg-col-4-of-12 sg-col-8-of-16 sg-col-12-of-32 sg-col-12-of-20 sg-col-12-of-36 sg-col sg-col-12-of-24 sg-col-12-of-28\"><div class=\"sg-col-inner\">\n",
      "<div class=\"a-section a-spacing-none\">\n",
      "<h5 class=\"a-color-base s-line-clamp-2\">\n",
      "<a class=\"a-link-normal a-text-normal\" href=\"/Death-Wish-Bruce-Willis/dp/B07B3JFQH4\">\n",
      "<span class=\"a-size-medium a-color-base a-text-normal\">Death Wish</span>\n",
      "</a>\n",
      "</h5>\n",
      "<div class=\"a-row a-size-base a-color-secondary\"><span>MPAA Rating: R (Restricted)</span><span class=\"a-letter-space\"></span><span class=\"a-size-base a-color-secondary\"> | </span><span class=\"a-letter-space\"></span><span>Closed Caption</span></div>\n",
      "</div>\n",
      "<div class=\"a-section a-spacing-none a-spacing-top-micro\">\n",
      "<div class=\"a-row a-size-small\">\n",
      "<span aria-label=\"4.2 out of 5 stars\">\n",
      "<span class=\"a-declarative\" data-a-popover='{\"max-width\":\"700\",\"closeButton\":false,\"position\":\"triggerBottom\",\"url\":\"/review/widgets/average-customer-review/popover/ref=acr_search__popover?ie=UTF8&amp;asin=B07B3JFQH4&amp;contextId=search&amp;ref=acr_search__popover\"}' data-action=\"a-popover\">\n",
      "<a class=\"a-popover-trigger a-declarative\" href=\"javascript:void(0)\"><i class=\"a-icon a-icon-star-small a-star-small-4\"><span class=\"a-icon-alt\">4.2 out of 5 stars</span></i><i class=\"a-icon a-icon-popover\"></i></a>\n",
      "</span>\n",
      "</span>\n",
      "<span aria-label=\"775\">\n",
      "<a class=\"a-link-normal\" href=\"/Death-Wish-Bruce-Willis/dp/B07B3JFQH4#customerReviews\">\n",
      "<span class=\"a-size-base\">775</span>\n",
      "</a>\n",
      "</span>\n",
      "</div>\n",
      "</div>\n",
      "</div></div>\n",
      "</div>\n",
      "<div class=\"sg-row\">\n",
      "<div class=\"sg-col-4-of-12 sg-col-6-of-20 sg-col-4-of-16 sg-col sg-col-6-of-36 sg-col-6-of-28 sg-col-6-of-32 sg-col-6-of-24\"><div class=\"sg-col-inner\">\n",
      "<div class=\"a-section a-spacing-none a-spacing-top-small\">\n",
      "<div class=\"a-row a-size-base a-color-base\">\n",
      "<a class=\"a-size-base a-link-normal a-text-bold\" href=\"/Death-Wish-Bruce-Willis/dp/B07B3JFQH4\">\n",
      "    \n",
      "        \n",
      "        \n",
      "            Prime Video\n",
      "        \n",
      "    \n",
      "</a>\n",
      "</div><div class=\"a-row a-size-base a-color-base\">\n",
      "<a class=\"a-link-normal\" href=\"/Death-Wish-Bruce-Willis/dp/B07B3JFQH4\">\n",
      "<span class=\"a-color-base\">$14.99 Buy Movie</span>\n",
      "</a>\n",
      "</div>\n",
      "</div>\n",
      "<div class=\"a-section a-spacing-none a-spacing-top-mini\">\n",
      "<div class=\"a-row a-size-base a-color-secondary\"><span>0.00 Watch with a Prime membership.</span></div>\n",
      "</div>\n",
      "</div></div>\n",
      "<div class=\"sg-col-4-of-12 sg-col-6-of-20 sg-col-4-of-16 sg-col sg-col-6-of-36 sg-col-6-of-28 sg-col-6-of-32 sg-col-6-of-24\"><div class=\"sg-col-inner\">\n",
      "<div class=\"a-section a-spacing-none a-spacing-top-small\">\n",
      "<ul class=\"a-unordered-list a-vertical\"><li><span class=\"a-list-item\"><span class=\"a-size-base a-color-secondary\">Starring: </span>\n",
      "<a class=\"a-size-base a-link-normal\" href=\"/s?ie=UTF8&amp;field-keywords=Bruce+Willis&amp;search-alias=\">\n",
      "    \n",
      "        \n",
      "        \n",
      "            Bruce Willis\n",
      "        \n",
      "    \n",
      "</a>\n",
      "<span class=\"a-size-base\">, </span>\n",
      "<a class=\"a-size-base a-link-normal\" href=\"/s?ie=UTF8&amp;field-keywords=Elisabeth+Shue&amp;search-alias=\">\n",
      "    \n",
      "        \n",
      "        \n",
      "            Elisabeth Shue\n",
      "        \n",
      "    \n",
      "</a>\n",
      "<span class=\"a-size-base\">, </span>\n",
      "<a class=\"a-size-base a-link-normal\" href=\"/s?ie=UTF8&amp;field-keywords=Vincent+D%27Onofrio&amp;search-alias=\">\n",
      "    \n",
      "        \n",
      "        \n",
      "            Vincent D'Onofrio\n",
      "        \n",
      "    \n",
      "</a>\n",
      "<span class=\"a-size-base\">, et al.</span></span></li><li><span class=\"a-list-item\"><span class=\"a-size-base a-color-secondary\">Directed by: </span>\n",
      "<a class=\"a-size-base a-link-normal\" href=\"/s?ie=UTF8&amp;field-keywords=Eli+Roth&amp;search-alias=\">\n",
      "    \n",
      "        \n",
      "        \n",
      "            Eli Roth\n",
      "        \n",
      "    \n",
      "</a>\n",
      "</span></li></ul>\n",
      "</div>\n",
      "</div></div>\n",
      "</div>\n",
      "<div class=\"sg-row\">\n",
      "<div class=\"sg-col-20-of-24 sg-col-28-of-32 sg-col-16-of-20 sg-col sg-col-32-of-36 sg-col-8-of-12 sg-col-12-of-16 sg-col-24-of-28\"><div class=\"sg-col-inner\">\n",
      "</div></div>\n",
      "</div>\n",
      "<div class=\"sg-row\">\n",
      "<div class=\"sg-col-20-of-24 sg-col-28-of-32 sg-col-16-of-20 sg-col sg-col-32-of-36 sg-col-8-of-12 sg-col-12-of-16 sg-col-24-of-28\"><div class=\"sg-col-inner\">\n",
      "</div></div>\n",
      "</div>\n",
      "</div></div>\n",
      "</div>\n",
      "</div>\n",
      "</div>\n",
      "</div></div>\n"
     ]
    }
   ],
   "source": [
    "print(first_movie)"
   ]
  },
  {
   "cell_type": "code",
   "execution_count": 9,
   "metadata": {},
   "outputs": [
    {
     "data": {
      "text/plain": [
       "<div class=\"lister-item-image ribbonize\" data-tconst=\"tt0118694\">\n",
       "<a href=\"/title/tt0118694/?ref_=ttls_li_i\"> <img alt=\"In the Mood for Love\" class=\"loadlate\" data-tconst=\"tt0118694\" height=\"209\" loadlate=\"https://m.media-amazon.com/images/M/MV5BYjZjODRlMjQtMjJlYy00ZDBjLTkyYTQtZGQxZTk5NzJhYmNmXkEyXkFqcGdeQXVyMTQxNzMzNDI@._V1_UY209_CR3,0,140,209_AL_.jpg\" src=\"https://m.media-amazon.com/images/G/01/imdb/images/nopicture/large/film-184890147._CB470041630_.png\" width=\"140\"/>\n",
       "</a> </div>"
      ]
     },
     "execution_count": 9,
     "metadata": {},
     "output_type": "execute_result"
    }
   ],
   "source": [
    "first_movie.div"
   ]
  },
  {
   "cell_type": "code",
   "execution_count": 10,
   "metadata": {},
   "outputs": [
    {
     "data": {
      "text/plain": [
       "'In the Mood for Love'"
      ]
     },
     "execution_count": 10,
     "metadata": {},
     "output_type": "execute_result"
    }
   ],
   "source": [
    "first_name = first_movie.h3.a.text\n",
    "first_name"
   ]
  },
  {
   "cell_type": "code",
   "execution_count": 1,
   "metadata": {},
   "outputs": [
    {
     "ename": "NameError",
     "evalue": "name 'first_movie' is not defined",
     "output_type": "error",
     "traceback": [
      "\u001b[0;31m---------------------------------------------------------------------------\u001b[0m",
      "\u001b[0;31mNameError\u001b[0m                                 Traceback (most recent call last)",
      "\u001b[0;32m<ipython-input-1-b5dfd045f857>\u001b[0m in \u001b[0;36m<module>\u001b[0;34m()\u001b[0m\n\u001b[0;32m----> 1\u001b[0;31m \u001b[0mfirst_year\u001b[0m \u001b[0;34m=\u001b[0m \u001b[0mfirst_movie\u001b[0m\u001b[0;34m.\u001b[0m\u001b[0mh3\u001b[0m\u001b[0;34m.\u001b[0m\u001b[0mfind\u001b[0m\u001b[0;34m(\u001b[0m\u001b[0;34m'span'\u001b[0m\u001b[0;34m,\u001b[0m \u001b[0mclass_\u001b[0m\u001b[0;34m=\u001b[0m\u001b[0;34m\"sg-col-inner\"\u001b[0m\u001b[0;34m)\u001b[0m\u001b[0;34m.\u001b[0m\u001b[0mtext\u001b[0m\u001b[0;34m\u001b[0m\u001b[0m\n\u001b[0m\u001b[1;32m      2\u001b[0m \u001b[0mfirst_year\u001b[0m\u001b[0;34m\u001b[0m\u001b[0m\n",
      "\u001b[0;31mNameError\u001b[0m: name 'first_movie' is not defined"
     ]
    }
   ],
   "source": [
    "first_year = first_movie.h3.find('span', class_ = 'lister-item-year text-muted unbold').text\n",
    "first_year"
   ]
  },
  {
   "cell_type": "code",
   "execution_count": 12,
   "metadata": {},
   "outputs": [
    {
     "ename": "AttributeError",
     "evalue": "'NoneType' object has no attribute 'text'",
     "output_type": "error",
     "traceback": [
      "\u001b[0;31m---------------------------------------------------------------------------\u001b[0m",
      "\u001b[0;31mAttributeError\u001b[0m                            Traceback (most recent call last)",
      "\u001b[0;32m<ipython-input-12-92faeb51c9f2>\u001b[0m in \u001b[0;36m<module>\u001b[0;34m()\u001b[0m\n\u001b[0;32m----> 1\u001b[0;31m \u001b[0mfirst_imdb\u001b[0m \u001b[0;34m=\u001b[0m \u001b[0mfloat\u001b[0m\u001b[0;34m(\u001b[0m\u001b[0mfirst_movie\u001b[0m\u001b[0;34m.\u001b[0m\u001b[0mstrong\u001b[0m\u001b[0;34m.\u001b[0m\u001b[0mtext\u001b[0m\u001b[0;34m)\u001b[0m\u001b[0;34m\u001b[0m\u001b[0m\n\u001b[0m\u001b[1;32m      2\u001b[0m \u001b[0mfirst_imdb\u001b[0m\u001b[0;34m\u001b[0m\u001b[0m\n",
      "\u001b[0;31mAttributeError\u001b[0m: 'NoneType' object has no attribute 'text'"
     ]
    }
   ],
   "source": [
    "first_imdb = float(first_movie.strong.text)\n",
    "first_imdb"
   ]
  },
  {
   "cell_type": "code",
   "execution_count": null,
   "metadata": {},
   "outputs": [],
   "source": []
  }
 ],
 "metadata": {
  "kernelspec": {
   "display_name": "Python 3",
   "language": "python",
   "name": "python3"
  },
  "language_info": {
   "codemirror_mode": {
    "name": "ipython",
    "version": 3
   },
   "file_extension": ".py",
   "mimetype": "text/x-python",
   "name": "python",
   "nbconvert_exporter": "python",
   "pygments_lexer": "ipython3",
   "version": "3.6.6"
  }
 },
 "nbformat": 4,
 "nbformat_minor": 2
}
